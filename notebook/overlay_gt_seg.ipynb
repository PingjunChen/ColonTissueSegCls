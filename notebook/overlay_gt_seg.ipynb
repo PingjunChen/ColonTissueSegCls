{
 "cells": [
  {
   "cell_type": "code",
   "execution_count": 1,
   "metadata": {},
   "outputs": [],
   "source": [
    "import os, sys\n",
    "import numpy as np\n",
    "from skimage import filters, io\n",
    "from PIL import Image                                                                                         \n",
    "Image.warnings.simplefilter('error', Image.DecompressionBombWarning)\n",
    "Image.MAX_IMAGE_PIXELS = None\n",
    "import matplotlib.pyplot as plt\n",
    "%matplotlib inline"
   ]
  },
  {
   "cell_type": "code",
   "execution_count": 4,
   "metadata": {},
   "outputs": [],
   "source": [
    "work_dir = \"/home/pingjun/Desktop/PatchSelectionAtt/Colonoscopy\"\n",
    "gt_dir = os.path.join(work_dir, \"TestPosSlides\")\n",
    "overlay_dir = os.path.join(work_dir, \"OverlayGT\")\n",
    "overlay_alp = 0.65"
   ]
  },
  {
   "cell_type": "code",
   "execution_count": 5,
   "metadata": {},
   "outputs": [],
   "source": [
    "slide_list = [ele for ele in os.listdir(gt_dir) if \"jpg\" in ele]\n",
    "for ele in slide_list:\n",
    "    wsi_img = io.imread(os.path.join(gt_dir, ele))\n",
    "    gt_img = io.imread(os.path.join(gt_dir, os.path.splitext(ele)[0]+\".png\"))\n",
    "    cmap = plt.get_cmap('jet')\n",
    "    heat_img = cmap(gt_img)[:, :, :-1] * 255\n",
    "    overlay_img = (wsi_img * overlay_alp + heat_img * (1.0 - overlay_alp)).astype(np.uint8)\n",
    "    io.imsave(os.path.join(overlay_dir, ele), overlay_img)"
   ]
  },
  {
   "cell_type": "code",
   "execution_count": null,
   "metadata": {},
   "outputs": [],
   "source": []
  }
 ],
 "metadata": {
  "kernelspec": {
   "display_name": "Python 3",
   "language": "python",
   "name": "python3"
  },
  "language_info": {
   "codemirror_mode": {
    "name": "ipython",
    "version": 3
   },
   "file_extension": ".py",
   "mimetype": "text/x-python",
   "name": "python",
   "nbconvert_exporter": "python",
   "pygments_lexer": "ipython3",
   "version": "3.6.8"
  }
 },
 "nbformat": 4,
 "nbformat_minor": 2
}
